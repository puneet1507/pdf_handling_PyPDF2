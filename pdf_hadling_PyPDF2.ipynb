{
 "cells": [
  {
   "cell_type": "markdown",
   "metadata": {},
   "source": [
    "Here we are going to see how Python can be helpful in providing solution to handle unstructured data sources like Pdf i.e. Portable Document Format, and could be used to make it handy and useful. Once we are able to extract the useful information from the Pdf, we can then easily use that in any Machine Learning or Natural Language Processing model."
   ]
  },
  {
   "cell_type": "markdown",
   "metadata": {},
   "source": [
    "For the above purpose our high-level, interpreted language Python has several libraries that could be used to handle Pdf documents. Here I list a few:"
   ]
  },
  {
   "cell_type": "markdown",
   "metadata": {},
   "source": [
    "#### PDFMiner"
   ]
  },
  {
   "cell_type": "markdown",
   "metadata": {},
   "source": [
    "Parse, analyze, and convert PDF documents"
   ]
  },
  {
   "cell_type": "markdown",
   "metadata": {},
   "source": [
    "PDF to HTML conversion"
   ]
  },
  {
   "cell_type": "markdown",
   "metadata": {},
   "source": [
    "Outline (TOC) extraction"
   ]
  },
  {
   "cell_type": "markdown",
   "metadata": {},
   "source": [
    "Tagged contents extraction"
   ]
  },
  {
   "cell_type": "markdown",
   "metadata": {},
   "source": [
    "Reconstruct the original layout by grouping text chunks"
   ]
  },
  {
   "cell_type": "markdown",
   "metadata": {},
   "source": [
    "#### PyPDF2"
   ]
  },
  {
   "cell_type": "markdown",
   "metadata": {},
   "source": [
    "extracting document information (title, author, …)"
   ]
  },
  {
   "cell_type": "markdown",
   "metadata": {},
   "source": [
    "splitting documents page by page"
   ]
  },
  {
   "cell_type": "markdown",
   "metadata": {},
   "source": [
    "merging documents page by page"
   ]
  },
  {
   "cell_type": "markdown",
   "metadata": {},
   "source": [
    "encrypting and decrypting PDF files"
   ]
  },
  {
   "cell_type": "markdown",
   "metadata": {},
   "source": [
    "merging multiple files into a single file"
   ]
  },
  {
   "cell_type": "markdown",
   "metadata": {},
   "source": [
    "#### Tabula-py"
   ]
  },
  {
   "cell_type": "markdown",
   "metadata": {},
   "source": [
    "simple Python wrapper of tabula-java"
   ]
  },
  {
   "cell_type": "markdown",
   "metadata": {},
   "source": [
    "can read tables in a PDF, and convert into pandas' DataFrame"
   ]
  },
  {
   "cell_type": "markdown",
   "metadata": {},
   "source": [
    "can convert PDF file into CSV, TSV or JSON"
   ]
  },
  {
   "cell_type": "markdown",
   "metadata": {},
   "source": [
    "#### PDFQuery"
   ]
  },
  {
   "cell_type": "markdown",
   "metadata": {},
   "source": [
    "light wrapper around PDFMiner,PyQuery and lxml"
   ]
  },
  {
   "cell_type": "markdown",
   "metadata": {},
   "source": [
    "designed to reliably extract data from sets of PDFs with as little code as possible"
   ]
  },
  {
   "cell_type": "markdown",
   "metadata": {},
   "source": [
    "=============================="
   ]
  },
  {
   "cell_type": "markdown",
   "metadata": {},
   "source": [
    "Here we will be learning how PyPDF2 works"
   ]
  },
  {
   "cell_type": "markdown",
   "metadata": {},
   "source": [
    "### Contents"
   ]
  },
  {
   "cell_type": "markdown",
   "metadata": {},
   "source": [
    "1. Extracting text"
   ]
  },
  {
   "cell_type": "markdown",
   "metadata": {},
   "source": [
    "2. Rotating Pages"
   ]
  },
  {
   "cell_type": "markdown",
   "metadata": {},
   "source": [
    "3. Merging PDFs"
   ]
  },
  {
   "cell_type": "markdown",
   "metadata": {},
   "source": [
    "4. Encrypting"
   ]
  },
  {
   "cell_type": "markdown",
   "metadata": {},
   "source": [
    "5. Decrypting"
   ]
  },
  {
   "cell_type": "markdown",
   "metadata": {},
   "source": [
    "6. Adding Watermark"
   ]
  },
  {
   "cell_type": "markdown",
   "metadata": {},
   "source": [
    "7. Combining required pages from different PDFs"
   ]
  },
  {
   "cell_type": "markdown",
   "metadata": {},
   "source": [
    "=============================="
   ]
  },
  {
   "cell_type": "markdown",
   "metadata": {},
   "source": [
    "##### *the pdf files used here are just randomly chosen from google and are not related to the topic in any way. "
   ]
  },
  {
   "cell_type": "markdown",
   "metadata": {},
   "source": [
    "#### *the source of my knowledge for this work is the book 'Automate The Boring Stuff With Python' by AI Sweigart"
   ]
  },
  {
   "cell_type": "code",
   "execution_count": 1,
   "metadata": {},
   "outputs": [],
   "source": [
    "# import the library\n",
    "import PyPDF2"
   ]
  },
  {
   "cell_type": "markdown",
   "metadata": {},
   "source": [
    "## Extracting Text"
   ]
  },
  {
   "cell_type": "code",
   "execution_count": 2,
   "metadata": {},
   "outputs": [],
   "source": [
    "# PDF is a binary file\n",
    "# open your pdf in a read binary mode and store in some variable. read binary mode is denoted as 'rb' as used below\n",
    "pdf_file = open('GDP_1.pdf', 'rb')\n",
    "\n",
    "# to represent yor pdf and get it read, use PdfFileReader() to get your file object\n",
    "pdf_reader = PyPDF2.PdfFileReader(pdf_file)"
   ]
  },
  {
   "cell_type": "code",
   "execution_count": 3,
   "metadata": {},
   "outputs": [
    {
     "name": "stdout",
     "output_type": "stream",
     "text": [
      "7\n"
     ]
    }
   ],
   "source": [
    "# print number of pages\n",
    "print(pdf_reader.numPages)"
   ]
  },
  {
   "cell_type": "code",
   "execution_count": 4,
   "metadata": {
    "collapsed": true
   },
   "outputs": [
    {
     "name": "stdout",
     "output_type": "stream",
     "text": [
      "GROSS DOMESTIC PRODUCT (GDP)\n",
      "NATIONAL ACCOUNTS AT A GLANCE  OECD 2009\n",
      "16\n",
      "1.Size of GDP\n",
      "\n",
      "1. Size of GDP\n",
      "Gross domestic product (GDP) is the standard measur\n",
      "e\n",
      "of the value of final goods and services produced b\n",
      "y a\n",
      "country during a period. While GDP is the single mo\n",
      "st\n",
      "important indicator to capture these economic activ\n",
      "i-\n",
      "ties, it is not a good measure of societies' well-b\n",
      "eing\n",
      "and only a limited measure of people's material liv\n",
      "ing\n",
      "standards. The sections and indicators that follow\n",
      "\n",
      "better address this and other related issues and th\n",
      "is is\n",
      "one of the primary purposes of this publication.\n",
      "\n",
      "Countries calculate GDP in their own currencies. In\n",
      "\n",
      "order to compare across countries these estimates\n",
      "\n",
      "have to be converted into a common currency. Often\n",
      "\n",
      "the conversion is made using current exchange rates\n",
      "\n",
      "but these can give a misleading comparison of the\n",
      "\n",
      "true volumes of final goods and services in GDP. A \n",
      "bet-\n",
      "ter approach is to use purchasing power parities\n",
      "\n",
      "(PPPs). PPPs are currency converters that control f\n",
      "or\n",
      "differences in the price levels of products between\n",
      "\n",
      "countries and so allow an international comparison \n",
      "of\n",
      "the volumes of GDP and of the size of economies. \n",
      "Comparability\n",
      "\n",
      "All OECD countries now follow the1993 System of\n",
      "\n",
      "National Accounts, although in some countries, for\n",
      "\n",
      "example in specific areas such as the own account\n",
      "\n",
      "production of software or financial intermediation\n",
      "\n",
      "services (indirectly measured) (FISIM), differences\n",
      "\n",
      "remain, which can impact on comparisons of GDP.\n",
      "\n",
      "The measurement of the non-observed economy\n",
      "\n",
      "(NOE, often referred to as the informal, grey, shad\n",
      "ow,\n",
      "economy) can also have an impact on comparability,\n",
      "\n",
      "although for OECD economies, in general, this is no\n",
      "t\n",
      "thought to be significant. (See also ªReader's Guid\n",
      "eº,\n",
      "relating to PPP based comparisons.)\n",
      "\n",
      "For some countries, the latest year has been estima\n",
      "ted\n",
      "by the Secretariat. Historical data have also been \n",
      "esti-\n",
      "mated for those countries that revise their methodo\n",
      "-\n",
      "logies but only supply revised data for some years.\n",
      "\n",
      "This estimation process mechanically links the new\n",
      "\n",
      "and old series to preserve growth rates.\n",
      "\n",
      "Source\n",
      "\n",
      "·OECD (2009), \n",
      "National Accounts of OECD Countries2009,\n",
      "Volume I, Main Aggregates\n",
      ", OECD Publishing,\n",
      "http://dx.doi.org/10.1787/na_vol_1-2009-en-fr\n",
      ".Online database\n",
      "\n",
      "·OECD (2009), ªAggregate national accounts: gross\n",
      "domestic productº, OECD \n",
      "National Accounts Statistics\n",
      "(database),\n",
      "http://dx.doi.org/10.1787/data-00001-en\n",
      ".Further reading\n",
      "\n",
      "·Lequiller F., N. Ahmad, S. Varjonen, W. Cave and\n",
      "K.-H. Ahn (2003), \n",
      "Report of the OECD Task Force on Soft-\n",
      "ware Measurement in the National Accounts\n",
      ", OECD Pub-\n",
      "lishing,\n",
      "http://dx.doi.org/10.1787/334811030426\n",
      ".·Ahmad N. (2003), \n",
      "Measuring Investment in Software\n",
      ",OECD Publishing,\n",
      "http://dx.doi.org/10.1787/335303788330\n",
      ".·OECD (2002\n",
      "), Measuring the Non-Observed Economy:\n",
      "AHandbook\n",
      ", OECD Publishing,\n",
      "http://dx.doi.org/10.1787/9789264175358-en\n",
      ".·Lequiller F. and D. Blades (2007), \n",
      "Understanding\n",
      "National Accounts\n",
      ", OECD Publishing,\n",
      "http://dx.doi.org/10.1787/9789264027657-en\n",
      ".·OECD (\n",
      "2000\n",
      "), \n",
      "System of National Accounts, 1993 ±\n",
      "Glossary\n",
      ", OECD Publishing,\n",
      "http://dx.doi.org/10.1787/9789264180871-en\n",
      ".·UN, OECD, IMF, Eurostat (eds.) (1993), \n",
      "System of\n",
      "National Accounts1993\n",
      ", United Nations, Geneva,\n",
      "http://unstats.un.org/unsd/sna1993\n",
      ".Definition\n",
      "\n",
      "What does gross domestic product mean?\n",
      "\n",
      "ªGrossº signifies that no deduction has been\n",
      "\n",
      "made for the depreciation of machinery, build-\n",
      "\n",
      "ings and other capital products used in produc-\n",
      "\n",
      "tion. ªDomesticº means that it is production by\n",
      "\n",
      "the resident institutional units of the country.\n",
      "\n",
      "The products refer to final goods and services,\n",
      "\n",
      "that is, those that are purchased, imputed or\n",
      "\n",
      "otherwise, as: the final consumption of house-\n",
      "\n",
      "holds, non-profit institutions serving house-\n",
      "\n",
      "holds and government; fixed assets; and exports\n",
      "\n",
      "(minus imports).\n",
      "\n",
      "GDP at market prices can be measured in three\n",
      "\n",
      "different ways:\n",
      "\n",
      "·as output less intermediate consumption\n",
      "(i.e.\n",
      "value added) plus taxes on products (such\n",
      "as VAT) less subsidies on products;\n",
      "·as the income earned from production, equal\n",
      "to the sum of: employee compensation; the\n",
      "\n",
      "gross operating surplus of enterprises and\n",
      "\n",
      "government; the gross mixed income of unin-\n",
      "\n",
      "corporated enterprises; and net taxes on pro-\n",
      "\n",
      "duction and imports (VAT, payroll tax, import\n",
      "\n",
      "duties, etc., less subsidies);\n",
      "·or as the expenditure on final goods and ser-\n",
      "vices minus imports: final consumption\n",
      "\n",
      "expenditures, gross capital formation, and\n",
      "\n",
      "exports less imports.\n",
      "\n"
     ]
    }
   ],
   "source": [
    "# to extract text from a page, you need to get a page object, which represents a single page of a PDF from a PdfFileReader object\n",
    "# first page is page 0 and second page is page 1\n",
    "# so here we extracting second page\n",
    "page = pdf_reader.getPage(1)\n",
    "\n",
    "# extract the string from your page object\n",
    "print(page.extractText())"
   ]
  },
  {
   "cell_type": "code",
   "execution_count": 5,
   "metadata": {},
   "outputs": [],
   "source": [
    "# make sure you close the files you opened.\n",
    "pdf_file.close()"
   ]
  },
  {
   "cell_type": "code",
   "execution_count": null,
   "metadata": {},
   "outputs": [],
   "source": []
  },
  {
   "cell_type": "markdown",
   "metadata": {},
   "source": [
    "## Rotating"
   ]
  },
  {
   "cell_type": "markdown",
   "metadata": {},
   "source": [
    "### Single Page"
   ]
  },
  {
   "cell_type": "code",
   "execution_count": 6,
   "metadata": {},
   "outputs": [],
   "source": [
    "pdf_file = open('GDP_1.pdf', 'rb')\n",
    "\n",
    "pdf_reader = PyPDF2.PdfFileReader(pdf_file)\n",
    "\n",
    "# creating a PdfFileWriter object creates only a value that represents a PDF document in Python\n",
    "pdf_writer = PyPDF2.PdfFileWriter()"
   ]
  },
  {
   "cell_type": "code",
   "execution_count": 7,
   "metadata": {},
   "outputs": [],
   "source": [
    "page = pdf_reader.getPage(0)\n",
    "\n",
    "# to rotate you chosen page clockwise 90 degrees\n",
    "page.rotateClockwise(90)\n",
    "\n",
    "# add page to the pdf writer object\n",
    "pdf_writer.addPage(page)"
   ]
  },
  {
   "cell_type": "code",
   "execution_count": 8,
   "metadata": {},
   "outputs": [],
   "source": [
    "# assign a name to your new pdf and open that in write binary mode this time as we are going to write new pdf.\n",
    "# write binary mode is denoted by 'wb' as used below\n",
    "rotated_page_file = open('rotated_page_GDP_1.pdf', 'wb')\n",
    "\n",
    "# The write() method takes a regular file object that has been opened in write-binary mode\n",
    "pdf_writer.write(rotated_page_file)"
   ]
  },
  {
   "cell_type": "code",
   "execution_count": 9,
   "metadata": {},
   "outputs": [],
   "source": [
    "# close the opened binary files\n",
    "pdf_file.close()\n",
    "\n",
    "rotated_page_file.close()"
   ]
  },
  {
   "cell_type": "markdown",
   "metadata": {},
   "source": [
    "### Multiple Pages"
   ]
  },
  {
   "cell_type": "code",
   "execution_count": 10,
   "metadata": {},
   "outputs": [],
   "source": [
    "pdf_file = open('GDP_1.pdf', 'rb')\n",
    "\n",
    "pdf_reader = PyPDF2.PdfFileReader(pdf_file)\n",
    "\n",
    "pdf_writer = PyPDF2.PdfFileWriter()"
   ]
  },
  {
   "cell_type": "code",
   "execution_count": 11,
   "metadata": {},
   "outputs": [],
   "source": [
    "# loop over the pages that need to be rotated\n",
    "for page_num in range(pdf_reader.numPages):\n",
    "    pdf_writer.addPage(pdf_reader.getPage(page_num).rotateClockwise(90)) "
   ]
  },
  {
   "cell_type": "code",
   "execution_count": 12,
   "metadata": {},
   "outputs": [],
   "source": [
    "rotated_pages_file = open('rotated_pages_GDP_1.pdf', 'wb')\n",
    "\n",
    "pdf_writer.write(rotated_pages_file)"
   ]
  },
  {
   "cell_type": "code",
   "execution_count": 13,
   "metadata": {},
   "outputs": [],
   "source": [
    "pdf_file.close()\n",
    "\n",
    "rotated_pages_file.close()"
   ]
  },
  {
   "cell_type": "code",
   "execution_count": null,
   "metadata": {},
   "outputs": [],
   "source": []
  },
  {
   "cell_type": "markdown",
   "metadata": {},
   "source": [
    "## Merging"
   ]
  },
  {
   "cell_type": "markdown",
   "metadata": {},
   "source": [
    "### very less number of files"
   ]
  },
  {
   "cell_type": "markdown",
   "metadata": {},
   "source": [
    "this method is used when you have very less number of pdf files or very uncommon names"
   ]
  },
  {
   "cell_type": "code",
   "execution_count": 14,
   "metadata": {},
   "outputs": [
    {
     "name": "stdout",
     "output_type": "stream",
     "text": [
      "Number of pages in GDP_1 =  7\n",
      "Number of pages in GDP_2 =  53\n",
      "Number of pages in GDP_3 =  9\n"
     ]
    },
    {
     "name": "stderr",
     "output_type": "stream",
     "text": [
      "PdfReadWarning: Xref table not zero-indexed. ID numbers for objects will be corrected. [pdf.py:1736]\n"
     ]
    }
   ],
   "source": [
    "pdf_file_1 = open('GDP_1.pdf', 'rb')\n",
    "pdf_file_2 = open('GDP_2.pdf', 'rb')\n",
    "pdf_file_3 = open('GDP_3.pdf', 'rb')\n",
    "\n",
    "pdf_reader_1 = PyPDF2.PdfFileReader(pdf_file_1)\n",
    "pdf_reader_2 = PyPDF2.PdfFileReader(pdf_file_2)\n",
    "pdf_reader_3 = PyPDF2.PdfFileReader(pdf_file_3)\n",
    "\n",
    "pdf_writer = PyPDF2.PdfFileWriter()\n",
    "\n",
    "print('Number of pages in GDP_1 = ',pdf_reader_1.numPages)\n",
    "print('Number of pages in GDP_2 = ',pdf_reader_2.numPages)\n",
    "print('Number of pages in GDP_3 = ',pdf_reader_3.numPages)"
   ]
  },
  {
   "cell_type": "code",
   "execution_count": 15,
   "metadata": {},
   "outputs": [],
   "source": [
    "for page_num in range(pdf_reader_1.numPages):\n",
    "    page = pdf_reader_1.getPage(page_num)\n",
    "    pdf_writer.addPage(page)\n",
    "    \n",
    "for page_num in range(pdf_reader_2.numPages):\n",
    "    page = pdf_reader_2.getPage(page_num)\n",
    "    pdf_writer.addPage(page)\n",
    "\n",
    "for page_num in range(pdf_reader_3.numPages):\n",
    "    page = pdf_reader_3.getPage(page_num)\n",
    "    pdf_writer.addPage(page)"
   ]
  },
  {
   "cell_type": "code",
   "execution_count": 16,
   "metadata": {},
   "outputs": [],
   "source": [
    "merged_file = open('merged_file.pdf', 'wb')\n",
    "\n",
    "pdf_writer.write(merged_file)"
   ]
  },
  {
   "cell_type": "code",
   "execution_count": 17,
   "metadata": {},
   "outputs": [],
   "source": [
    "pdf_file_1.close()\n",
    "pdf_file_2.close()\n",
    "pdf_file_3.close()\n",
    "merged_file.close()"
   ]
  },
  {
   "cell_type": "markdown",
   "metadata": {},
   "source": [
    "### large number of files"
   ]
  },
  {
   "cell_type": "markdown",
   "metadata": {},
   "source": [
    "this method is used when you have large number of files and have common file name"
   ]
  },
  {
   "cell_type": "code",
   "execution_count": 18,
   "metadata": {},
   "outputs": [],
   "source": [
    "# import the required libraries\n",
    "from PyPDF2 import PdfFileMerger, PdfFileReader"
   ]
  },
  {
   "cell_type": "code",
   "execution_count": 19,
   "metadata": {},
   "outputs": [],
   "source": [
    "# create an object to merge all the files\n",
    "merged_object = PdfFileMerger()"
   ]
  },
  {
   "cell_type": "code",
   "execution_count": 20,
   "metadata": {},
   "outputs": [],
   "source": [
    "#\n",
    "for file_number in range(1, 4):\n",
    "    merged_object.append(PdfFileReader('GDP_' + str(file_number)+ '.pdf', 'rb'))"
   ]
  },
  {
   "cell_type": "code",
   "execution_count": 21,
   "metadata": {},
   "outputs": [],
   "source": [
    "merged_object.write('merged_large_files.pdf')"
   ]
  },
  {
   "cell_type": "markdown",
   "metadata": {},
   "source": [
    "NOTE: PyPDF2 cannot insert pages in the middle of a PdfFileWriter object; the addPage() method will only add pages to the end."
   ]
  },
  {
   "cell_type": "markdown",
   "metadata": {},
   "source": [
    "## Encrypting"
   ]
  },
  {
   "cell_type": "code",
   "execution_count": 22,
   "metadata": {},
   "outputs": [],
   "source": [
    "pdf_file = open('GDP_1_Copy.pdf' , 'rb')\n",
    "\n",
    "pdf_reader = PyPDF2.PdfFileReader(pdf_file)\n",
    "\n",
    "pdf_writer = PyPDF2.PdfFileWriter()"
   ]
  },
  {
   "cell_type": "code",
   "execution_count": 23,
   "metadata": {},
   "outputs": [],
   "source": [
    "for page_num in range(pdf_reader.numPages):\n",
    "    pdf_writer.addPage(pdf_reader.getPage(page_num))"
   ]
  },
  {
   "cell_type": "code",
   "execution_count": 24,
   "metadata": {},
   "outputs": [],
   "source": [
    "# Before calling the write() method to save to a file, call the encrypt() method and pass it a password string\n",
    "pdf_writer.encrypt('encrypted')"
   ]
  },
  {
   "cell_type": "markdown",
   "metadata": {},
   "source": [
    "encrypt() has two arguments, user_pwd and owner_pwd (here pwd means password) as first and second arguments, respectively. Former is to allow user to view the PDF and later is to allow user for printing, commenting, extracting text, and other featues. If only one argument is passed in encrypt(), it will be taken as both the passwords."
   ]
  },
  {
   "cell_type": "code",
   "execution_count": 25,
   "metadata": {},
   "outputs": [],
   "source": [
    "encrypted_file = open('encrypted_file.pdf', 'wb')\n",
    "pdf_writer.write(encrypted_file)"
   ]
  },
  {
   "cell_type": "code",
   "execution_count": 26,
   "metadata": {},
   "outputs": [],
   "source": [
    "pdf_file.close()\n",
    "encrypted_file.close()"
   ]
  },
  {
   "cell_type": "code",
   "execution_count": null,
   "metadata": {},
   "outputs": [],
   "source": []
  },
  {
   "cell_type": "markdown",
   "metadata": {},
   "source": [
    "## Decrypting"
   ]
  },
  {
   "cell_type": "code",
   "execution_count": 27,
   "metadata": {},
   "outputs": [
    {
     "data": {
      "text/plain": [
       "True"
      ]
     },
     "execution_count": 27,
     "metadata": {},
     "output_type": "execute_result"
    }
   ],
   "source": [
    "pdf_file = open('encrypted_file.pdf', 'rb')\n",
    "\n",
    "pdf_reader = PyPDF2.PdfFileReader(pdf_file)\n",
    "\n",
    "# check if file encrypted\n",
    "pdf_reader.isEncrypted"
   ]
  },
  {
   "cell_type": "code",
   "execution_count": 28,
   "metadata": {},
   "outputs": [
    {
     "ename": "PdfReadError",
     "evalue": "file has not been decrypted",
     "output_type": "error",
     "traceback": [
      "\u001b[1;31m---------------------------------------------------------------------------\u001b[0m",
      "\u001b[1;31mPdfReadError\u001b[0m                              Traceback (most recent call last)",
      "\u001b[1;32m<ipython-input-28-857e3d982149>\u001b[0m in \u001b[0;36m<module>\u001b[1;34m\u001b[0m\n\u001b[0;32m      1\u001b[0m \u001b[1;31m# try to get page out of the reader object\u001b[0m\u001b[1;33m\u001b[0m\u001b[1;33m\u001b[0m\u001b[1;33m\u001b[0m\u001b[0m\n\u001b[1;32m----> 2\u001b[1;33m \u001b[0mpdf_reader\u001b[0m\u001b[1;33m.\u001b[0m\u001b[0mgetPage\u001b[0m\u001b[1;33m(\u001b[0m\u001b[1;36m0\u001b[0m\u001b[1;33m)\u001b[0m\u001b[1;33m\u001b[0m\u001b[1;33m\u001b[0m\u001b[0m\n\u001b[0m\u001b[0;32m      3\u001b[0m \u001b[1;31m# will give as error 'file has not been decrypted'\u001b[0m\u001b[1;33m\u001b[0m\u001b[1;33m\u001b[0m\u001b[1;33m\u001b[0m\u001b[0m\n",
      "\u001b[1;32m~\\anaconda3\\lib\\site-packages\\PyPDF2\\pdf.py\u001b[0m in \u001b[0;36mgetPage\u001b[1;34m(self, pageNumber)\u001b[0m\n\u001b[0;32m   1174\u001b[0m         \u001b[1;31m#assert not self.trailer.has_key(\"/Encrypt\")\u001b[0m\u001b[1;33m\u001b[0m\u001b[1;33m\u001b[0m\u001b[1;33m\u001b[0m\u001b[0m\n\u001b[0;32m   1175\u001b[0m         \u001b[1;32mif\u001b[0m \u001b[0mself\u001b[0m\u001b[1;33m.\u001b[0m\u001b[0mflattenedPages\u001b[0m \u001b[1;33m==\u001b[0m \u001b[1;32mNone\u001b[0m\u001b[1;33m:\u001b[0m\u001b[1;33m\u001b[0m\u001b[1;33m\u001b[0m\u001b[0m\n\u001b[1;32m-> 1176\u001b[1;33m             \u001b[0mself\u001b[0m\u001b[1;33m.\u001b[0m\u001b[0m_flatten\u001b[0m\u001b[1;33m(\u001b[0m\u001b[1;33m)\u001b[0m\u001b[1;33m\u001b[0m\u001b[1;33m\u001b[0m\u001b[0m\n\u001b[0m\u001b[0;32m   1177\u001b[0m         \u001b[1;32mreturn\u001b[0m \u001b[0mself\u001b[0m\u001b[1;33m.\u001b[0m\u001b[0mflattenedPages\u001b[0m\u001b[1;33m[\u001b[0m\u001b[0mpageNumber\u001b[0m\u001b[1;33m]\u001b[0m\u001b[1;33m\u001b[0m\u001b[1;33m\u001b[0m\u001b[0m\n\u001b[0;32m   1178\u001b[0m \u001b[1;33m\u001b[0m\u001b[0m\n",
      "\u001b[1;32m~\\anaconda3\\lib\\site-packages\\PyPDF2\\pdf.py\u001b[0m in \u001b[0;36m_flatten\u001b[1;34m(self, pages, inherit, indirectRef)\u001b[0m\n\u001b[0;32m   1503\u001b[0m         \u001b[1;32mif\u001b[0m \u001b[0mpages\u001b[0m \u001b[1;33m==\u001b[0m \u001b[1;32mNone\u001b[0m\u001b[1;33m:\u001b[0m\u001b[1;33m\u001b[0m\u001b[1;33m\u001b[0m\u001b[0m\n\u001b[0;32m   1504\u001b[0m             \u001b[0mself\u001b[0m\u001b[1;33m.\u001b[0m\u001b[0mflattenedPages\u001b[0m \u001b[1;33m=\u001b[0m \u001b[1;33m[\u001b[0m\u001b[1;33m]\u001b[0m\u001b[1;33m\u001b[0m\u001b[1;33m\u001b[0m\u001b[0m\n\u001b[1;32m-> 1505\u001b[1;33m             \u001b[0mcatalog\u001b[0m \u001b[1;33m=\u001b[0m \u001b[0mself\u001b[0m\u001b[1;33m.\u001b[0m\u001b[0mtrailer\u001b[0m\u001b[1;33m[\u001b[0m\u001b[1;34m\"/Root\"\u001b[0m\u001b[1;33m]\u001b[0m\u001b[1;33m.\u001b[0m\u001b[0mgetObject\u001b[0m\u001b[1;33m(\u001b[0m\u001b[1;33m)\u001b[0m\u001b[1;33m\u001b[0m\u001b[1;33m\u001b[0m\u001b[0m\n\u001b[0m\u001b[0;32m   1506\u001b[0m             \u001b[0mpages\u001b[0m \u001b[1;33m=\u001b[0m \u001b[0mcatalog\u001b[0m\u001b[1;33m[\u001b[0m\u001b[1;34m\"/Pages\"\u001b[0m\u001b[1;33m]\u001b[0m\u001b[1;33m.\u001b[0m\u001b[0mgetObject\u001b[0m\u001b[1;33m(\u001b[0m\u001b[1;33m)\u001b[0m\u001b[1;33m\u001b[0m\u001b[1;33m\u001b[0m\u001b[0m\n\u001b[0;32m   1507\u001b[0m \u001b[1;33m\u001b[0m\u001b[0m\n",
      "\u001b[1;32m~\\anaconda3\\lib\\site-packages\\PyPDF2\\generic.py\u001b[0m in \u001b[0;36m__getitem__\u001b[1;34m(self, key)\u001b[0m\n\u001b[0;32m    514\u001b[0m \u001b[1;33m\u001b[0m\u001b[0m\n\u001b[0;32m    515\u001b[0m     \u001b[1;32mdef\u001b[0m \u001b[0m__getitem__\u001b[0m\u001b[1;33m(\u001b[0m\u001b[0mself\u001b[0m\u001b[1;33m,\u001b[0m \u001b[0mkey\u001b[0m\u001b[1;33m)\u001b[0m\u001b[1;33m:\u001b[0m\u001b[1;33m\u001b[0m\u001b[1;33m\u001b[0m\u001b[0m\n\u001b[1;32m--> 516\u001b[1;33m         \u001b[1;32mreturn\u001b[0m \u001b[0mdict\u001b[0m\u001b[1;33m.\u001b[0m\u001b[0m__getitem__\u001b[0m\u001b[1;33m(\u001b[0m\u001b[0mself\u001b[0m\u001b[1;33m,\u001b[0m \u001b[0mkey\u001b[0m\u001b[1;33m)\u001b[0m\u001b[1;33m.\u001b[0m\u001b[0mgetObject\u001b[0m\u001b[1;33m(\u001b[0m\u001b[1;33m)\u001b[0m\u001b[1;33m\u001b[0m\u001b[1;33m\u001b[0m\u001b[0m\n\u001b[0m\u001b[0;32m    517\u001b[0m \u001b[1;33m\u001b[0m\u001b[0m\n\u001b[0;32m    518\u001b[0m     \u001b[1;31m##\u001b[0m\u001b[1;33m\u001b[0m\u001b[1;33m\u001b[0m\u001b[1;33m\u001b[0m\u001b[0m\n",
      "\u001b[1;32m~\\anaconda3\\lib\\site-packages\\PyPDF2\\generic.py\u001b[0m in \u001b[0;36mgetObject\u001b[1;34m(self)\u001b[0m\n\u001b[0;32m    176\u001b[0m \u001b[1;33m\u001b[0m\u001b[0m\n\u001b[0;32m    177\u001b[0m     \u001b[1;32mdef\u001b[0m \u001b[0mgetObject\u001b[0m\u001b[1;33m(\u001b[0m\u001b[0mself\u001b[0m\u001b[1;33m)\u001b[0m\u001b[1;33m:\u001b[0m\u001b[1;33m\u001b[0m\u001b[1;33m\u001b[0m\u001b[0m\n\u001b[1;32m--> 178\u001b[1;33m         \u001b[1;32mreturn\u001b[0m \u001b[0mself\u001b[0m\u001b[1;33m.\u001b[0m\u001b[0mpdf\u001b[0m\u001b[1;33m.\u001b[0m\u001b[0mgetObject\u001b[0m\u001b[1;33m(\u001b[0m\u001b[0mself\u001b[0m\u001b[1;33m)\u001b[0m\u001b[1;33m.\u001b[0m\u001b[0mgetObject\u001b[0m\u001b[1;33m(\u001b[0m\u001b[1;33m)\u001b[0m\u001b[1;33m\u001b[0m\u001b[1;33m\u001b[0m\u001b[0m\n\u001b[0m\u001b[0;32m    179\u001b[0m \u001b[1;33m\u001b[0m\u001b[0m\n\u001b[0;32m    180\u001b[0m     \u001b[1;32mdef\u001b[0m \u001b[0m__repr__\u001b[0m\u001b[1;33m(\u001b[0m\u001b[0mself\u001b[0m\u001b[1;33m)\u001b[0m\u001b[1;33m:\u001b[0m\u001b[1;33m\u001b[0m\u001b[1;33m\u001b[0m\u001b[0m\n",
      "\u001b[1;32m~\\anaconda3\\lib\\site-packages\\PyPDF2\\pdf.py\u001b[0m in \u001b[0;36mgetObject\u001b[1;34m(self, indirectReference)\u001b[0m\n\u001b[0;32m   1615\u001b[0m                 \u001b[1;31m# if we don't have the encryption key:\u001b[0m\u001b[1;33m\u001b[0m\u001b[1;33m\u001b[0m\u001b[1;33m\u001b[0m\u001b[0m\n\u001b[0;32m   1616\u001b[0m                 \u001b[1;32mif\u001b[0m \u001b[1;32mnot\u001b[0m \u001b[0mhasattr\u001b[0m\u001b[1;33m(\u001b[0m\u001b[0mself\u001b[0m\u001b[1;33m,\u001b[0m \u001b[1;34m'_decryption_key'\u001b[0m\u001b[1;33m)\u001b[0m\u001b[1;33m:\u001b[0m\u001b[1;33m\u001b[0m\u001b[1;33m\u001b[0m\u001b[0m\n\u001b[1;32m-> 1617\u001b[1;33m                     \u001b[1;32mraise\u001b[0m \u001b[0mutils\u001b[0m\u001b[1;33m.\u001b[0m\u001b[0mPdfReadError\u001b[0m\u001b[1;33m(\u001b[0m\u001b[1;34m\"file has not been decrypted\"\u001b[0m\u001b[1;33m)\u001b[0m\u001b[1;33m\u001b[0m\u001b[1;33m\u001b[0m\u001b[0m\n\u001b[0m\u001b[0;32m   1618\u001b[0m                 \u001b[1;31m# otherwise, decrypt here...\u001b[0m\u001b[1;33m\u001b[0m\u001b[1;33m\u001b[0m\u001b[1;33m\u001b[0m\u001b[0m\n\u001b[0;32m   1619\u001b[0m                 \u001b[1;32mimport\u001b[0m \u001b[0mstruct\u001b[0m\u001b[1;33m\u001b[0m\u001b[1;33m\u001b[0m\u001b[0m\n",
      "\u001b[1;31mPdfReadError\u001b[0m: file has not been decrypted"
     ]
    }
   ],
   "source": [
    "# try to get page out of the reader object\n",
    "pdf_reader.getPage(0)\n",
    "# will give as error 'file has not been decrypted'"
   ]
  },
  {
   "cell_type": "code",
   "execution_count": 29,
   "metadata": {},
   "outputs": [
    {
     "data": {
      "text/plain": [
       "1"
      ]
     },
     "execution_count": 29,
     "metadata": {},
     "output_type": "execute_result"
    }
   ],
   "source": [
    "# re-open the file in read binary mode 'rb'\n",
    "pdf_reader = PyPDF2.PdfFileReader('encrypted_file.pdf', 'rb')\n",
    "\n",
    "# decrypt the file using decrypt() passing the password string as argument\n",
    "# this will return 0 if failed to decrypt and 1 if it passed.\n",
    "pdf_reader.decrypt('encrypted')"
   ]
  },
  {
   "cell_type": "code",
   "execution_count": 30,
   "metadata": {
    "collapsed": true
   },
   "outputs": [
    {
     "data": {
      "text/plain": [
       "{'/Type': '/Page',\n",
       " '/MediaBox': [0, 0, 595, 842],\n",
       " '/Rotate': 0,\n",
       " '/Parent': {'/Type': '/Pages',\n",
       "  '/Count': 7,\n",
       "  '/Kids': [IndirectObject(3, 0),\n",
       "   IndirectObject(4, 0),\n",
       "   IndirectObject(5, 0),\n",
       "   IndirectObject(6, 0),\n",
       "   IndirectObject(7, 0),\n",
       "   IndirectObject(8, 0),\n",
       "   IndirectObject(9, 0)]},\n",
       " '/Resources': {'/ProcSet': ['/PDF', '/ImageC', '/Text'],\n",
       "  '/ColorSpace': {'/R10': ['/ICCBased', IndirectObject(14, 0)]},\n",
       "  '/XObject': {'/R11': {'/Subtype': '/Image',\n",
       "    '/ColorSpace': ['/ICCBased', IndirectObject(14, 0)],\n",
       "    '/Width': 1152,\n",
       "    '/Height': 532,\n",
       "    '/BitsPerComponent': 8,\n",
       "    '/Filter': '/DCTDecode'}},\n",
       "  '/Font': {'/R12': {'/BaseFont': '/XQVVHK+Caecilia-Roman',\n",
       "    '/FontDescriptor': {'/Type': '/FontDescriptor',\n",
       "     '/FontName': '/XQVVHK+Caecilia-Roman',\n",
       "     '/FontBBox': [-55, -270, 1072, 788],\n",
       "     '/Flags': 4,\n",
       "     '/Ascent': 788,\n",
       "     '/CapHeight': 788,\n",
       "     '/Descent': -270,\n",
       "     '/ItalicAngle': 0,\n",
       "     '/StemV': 160,\n",
       "     '/MissingWidth': 278,\n",
       "     '/CharSet': '/A/B/C/D/E/F/G/H/I/K/L/M/N/O/P/R/S/T/U/V/W/a/b/bullet/c/colon/comma/copyright/d/e/endash/f/g/h/hyphen/i/j/k/l/m/n/nine/o/odieresis/one/p/parenleft/parenright/period/q/question/quotedblleft/quotedblright/quoteright/r/s/semicolon/seven/slash/space/t/three/two/u/v/w/x/y/z/zero',\n",
       "     '/FontFile3': {'/Filter': '/FlateDecode', '/Subtype': '/Type1C'}},\n",
       "    '/Type': '/Font',\n",
       "    '/FirstChar': 32,\n",
       "    '/LastChar': 186,\n",
       "    '/Widths': [278,\n",
       "     594,\n",
       "     0,\n",
       "     0,\n",
       "     0,\n",
       "     0,\n",
       "     0,\n",
       "     278,\n",
       "     314,\n",
       "     314,\n",
       "     0,\n",
       "     0,\n",
       "     278,\n",
       "     407,\n",
       "     278,\n",
       "     370,\n",
       "     556,\n",
       "     556,\n",
       "     556,\n",
       "     556,\n",
       "     0,\n",
       "     0,\n",
       "     0,\n",
       "     556,\n",
       "     0,\n",
       "     556,\n",
       "     278,\n",
       "     278,\n",
       "     0,\n",
       "     0,\n",
       "     0,\n",
       "     500,\n",
       "     0,\n",
       "     741,\n",
       "     630,\n",
       "     685,\n",
       "     759,\n",
       "     574,\n",
       "     556,\n",
       "     722,\n",
       "     778,\n",
       "     334,\n",
       "     0,\n",
       "     704,\n",
       "     556,\n",
       "     926,\n",
       "     796,\n",
       "     760,\n",
       "     574,\n",
       "     0,\n",
       "     648,\n",
       "     593,\n",
       "     668,\n",
       "     759,\n",
       "     722,\n",
       "     1074,\n",
       "     0,\n",
       "     0,\n",
       "     0,\n",
       "     0,\n",
       "     0,\n",
       "     0,\n",
       "     0,\n",
       "     0,\n",
       "     0,\n",
       "     574,\n",
       "     593,\n",
       "     519,\n",
       "     630,\n",
       "     556,\n",
       "     370,\n",
       "     556,\n",
       "     667,\n",
       "     314,\n",
       "     314,\n",
       "     593,\n",
       "     314,\n",
       "     1000,\n",
       "     667,\n",
       "     594,\n",
       "     630,\n",
       "     630,\n",
       "     426,\n",
       "     500,\n",
       "     389,\n",
       "     648,\n",
       "     574,\n",
       "     870,\n",
       "     593,\n",
       "     574,\n",
       "     537,\n",
       "     0,\n",
       "     0,\n",
       "     0,\n",
       "     0,\n",
       "     800,\n",
       "     0,\n",
       "     0,\n",
       "     0,\n",
       "     0,\n",
       "     0,\n",
       "     0,\n",
       "     0,\n",
       "     0,\n",
       "     0,\n",
       "     0,\n",
       "     0,\n",
       "     0,\n",
       "     0,\n",
       "     0,\n",
       "     0,\n",
       "     0,\n",
       "     0,\n",
       "     0,\n",
       "     0,\n",
       "     0,\n",
       "     0,\n",
       "     0,\n",
       "     0,\n",
       "     0,\n",
       "     0,\n",
       "     0,\n",
       "     0,\n",
       "     0,\n",
       "     0,\n",
       "     0,\n",
       "     0,\n",
       "     0,\n",
       "     0,\n",
       "     0,\n",
       "     0,\n",
       "     0,\n",
       "     0,\n",
       "     0,\n",
       "     0,\n",
       "     0,\n",
       "     0,\n",
       "     0,\n",
       "     444,\n",
       "     0,\n",
       "     0,\n",
       "     0,\n",
       "     0,\n",
       "     0,\n",
       "     0,\n",
       "     500,\n",
       "     0,\n",
       "     0,\n",
       "     0,\n",
       "     0,\n",
       "     0,\n",
       "     500,\n",
       "     0,\n",
       "     0,\n",
       "     444],\n",
       "    '/Encoding': {'/Type': '/Encoding',\n",
       "     '/BaseEncoding': '/WinAnsiEncoding',\n",
       "     '/Differences': [33,\n",
       "      '/odieresis',\n",
       "      39,\n",
       "      '/quoteright',\n",
       "      127,\n",
       "      '/copyright',\n",
       "      170,\n",
       "      '/quotedblleft',\n",
       "      177,\n",
       "      '/endash',\n",
       "      183,\n",
       "      '/bullet',\n",
       "      186,\n",
       "      '/quotedblright']},\n",
       "    '/Subtype': '/Type1'},\n",
       "   '/R14': {'/BaseFont': '/MOSMCW+Caecilia-Heavy',\n",
       "    '/FontDescriptor': {'/Type': '/FontDescriptor',\n",
       "     '/FontName': '/MOSMCW+Caecilia-Heavy',\n",
       "     '/FontBBox': [-29, -277, 981, 795],\n",
       "     '/Flags': 4,\n",
       "     '/Ascent': 795,\n",
       "     '/CapHeight': 795,\n",
       "     '/Descent': -277,\n",
       "     '/ItalicAngle': 0,\n",
       "     '/StemV': 147,\n",
       "     '/MissingWidth': 296,\n",
       "     '/CharSet': '/C/D/E/F/G/I/M/O/P/R/S/T/U/a/b/c/colon/comma/d/e/eight/equal/f/five/g/h/i/l/m/n/nine/o/one/p/parenleft/parenright/period/r/s/seven/six/space/t/three/two/u/v/w/x/y/z/zero',\n",
       "     '/FontFile3': {'/Filter': '/FlateDecode', '/Subtype': '/Type1C'}},\n",
       "    '/Type': '/Font',\n",
       "    '/FirstChar': 32,\n",
       "    '/LastChar': 122,\n",
       "    '/Widths': [296,\n",
       "     0,\n",
       "     0,\n",
       "     0,\n",
       "     0,\n",
       "     0,\n",
       "     0,\n",
       "     0,\n",
       "     296,\n",
       "     296,\n",
       "     0,\n",
       "     0,\n",
       "     296,\n",
       "     0,\n",
       "     296,\n",
       "     0,\n",
       "     592,\n",
       "     592,\n",
       "     592,\n",
       "     592,\n",
       "     0,\n",
       "     592,\n",
       "     592,\n",
       "     592,\n",
       "     592,\n",
       "     592,\n",
       "     296,\n",
       "     0,\n",
       "     0,\n",
       "     600,\n",
       "     0,\n",
       "     0,\n",
       "     0,\n",
       "     0,\n",
       "     0,\n",
       "     685,\n",
       "     759,\n",
       "     593,\n",
       "     574,\n",
       "     722,\n",
       "     0,\n",
       "     352,\n",
       "     0,\n",
       "     0,\n",
       "     0,\n",
       "     963,\n",
       "     0,\n",
       "     760,\n",
       "     611,\n",
       "     0,\n",
       "     648,\n",
       "     630,\n",
       "     684,\n",
       "     759,\n",
       "     0,\n",
       "     0,\n",
       "     0,\n",
       "     0,\n",
       "     0,\n",
       "     0,\n",
       "     0,\n",
       "     0,\n",
       "     0,\n",
       "     0,\n",
       "     0,\n",
       "     593,\n",
       "     611,\n",
       "     500,\n",
       "     648,\n",
       "     574,\n",
       "     352,\n",
       "     593,\n",
       "     685,\n",
       "     332,\n",
       "     0,\n",
       "     0,\n",
       "     314,\n",
       "     1018,\n",
       "     685,\n",
       "     612,\n",
       "     648,\n",
       "     0,\n",
       "     426,\n",
       "     537,\n",
       "     370,\n",
       "     667,\n",
       "     593,\n",
       "     926,\n",
       "     648,\n",
       "     611,\n",
       "     556],\n",
       "    '/Encoding': '/WinAnsiEncoding',\n",
       "    '/Subtype': '/Type1'}}},\n",
       " '/Contents': {'/Filter': '/FlateDecode'},\n",
       " '/TrimBox': [28.189, 38.58002, 566.771, 803.57996],\n",
       " '/BleedBox': [28.189, 38.58002, 566.771, 803.57996],\n",
       " '/ArtBox': [28.189, 38.46, 566.771, 803.46]}"
      ]
     },
     "execution_count": 30,
     "metadata": {},
     "output_type": "execute_result"
    }
   ],
   "source": [
    "pdf_reader.getPage(0)\n",
    "# this time no error"
   ]
  },
  {
   "cell_type": "code",
   "execution_count": 31,
   "metadata": {},
   "outputs": [],
   "source": [
    "pdf_file.close()"
   ]
  },
  {
   "cell_type": "markdown",
   "metadata": {},
   "source": [
    "NOTE: decrypt() method will only decrypt the reader object of the file and not the file itself. That means the file will remain encrypted and you need to call decrypt() again every time you pass getPage() after closing the file."
   ]
  },
  {
   "cell_type": "markdown",
   "metadata": {},
   "source": [
    "## Add Watermark"
   ]
  },
  {
   "cell_type": "code",
   "execution_count": 32,
   "metadata": {},
   "outputs": [],
   "source": [
    "pdf_file = open('GDP_1.pdf', 'rb')\n",
    "\n",
    "pdf_reader = PyPDF2.PdfFileReader(pdf_file)\n",
    "\n",
    "pdf_writer = PyPDF2.PdfFileWriter()"
   ]
  },
  {
   "cell_type": "code",
   "execution_count": 33,
   "metadata": {},
   "outputs": [],
   "source": [
    "# open the watermark file as read binary mode 'rb'\n",
    "watermark_file = open('Watermark_.pdf', 'rb')\n",
    "\n",
    "# save the reader object of the watermark file\n",
    "watermark_reader = PyPDF2.PdfFileReader(watermark_file)"
   ]
  },
  {
   "cell_type": "code",
   "execution_count": 34,
   "metadata": {},
   "outputs": [],
   "source": [
    "# get the page of the pdf file you want to watermark\n",
    "# loop can be made for multiple pages\n",
    "first_page = pdf_reader.getPage(0)\n",
    "\n",
    "# mergePage() is used to merge both the pages with watermark page as argument\n",
    "first_page.mergePage(watermark_reader.getPage(0))\n",
    "\n",
    "# add the merged page to the writer object\n",
    "pdf_writer.addPage(first_page)"
   ]
  },
  {
   "cell_type": "code",
   "execution_count": 35,
   "metadata": {},
   "outputs": [],
   "source": [
    "# add other pages of the pdf file to the watermarked(merged) page in the new pdf file\n",
    "for page_num in range(1,pdf_reader.numPages):\n",
    "    pdf_writer.addPage(pdf_reader.getPage(page_num))"
   ]
  },
  {
   "cell_type": "code",
   "execution_count": 36,
   "metadata": {},
   "outputs": [],
   "source": [
    "watermarked_file = open('watermarked_file.pdf', 'wb')\n",
    "\n",
    "pdf_writer.write(watermarked_file)"
   ]
  },
  {
   "cell_type": "code",
   "execution_count": 37,
   "metadata": {},
   "outputs": [],
   "source": [
    "pdf_file.close()\n",
    "watermark_file.close()\n",
    "watermarked_file.close()"
   ]
  },
  {
   "cell_type": "code",
   "execution_count": null,
   "metadata": {},
   "outputs": [],
   "source": []
  },
  {
   "cell_type": "markdown",
   "metadata": {},
   "source": [
    "## Combining selected pages from different PDFs"
   ]
  },
  {
   "cell_type": "code",
   "execution_count": 38,
   "metadata": {},
   "outputs": [],
   "source": [
    "# list of file names\n",
    "files = ['GDP_1.pdf','GDP_2.pdf','GDP_3.pdf','GDP_4.pdf']\n",
    "\n",
    "pdf_writer = PyPDF2.PdfFileWriter()"
   ]
  },
  {
   "cell_type": "code",
   "execution_count": 39,
   "metadata": {},
   "outputs": [],
   "source": [
    "# here we have two loops. one for the file names and the other for the selected pages we want to add in our new file \n",
    "for file_name in files:\n",
    "    pdf_files = open(file_name,'rb')\n",
    "    pdf_reader = PyPDF2.PdfFileReader(pdf_files)\n",
    "    \n",
    "    for page_num in range(1,pdf_reader.numPages):\n",
    "        page = pdf_reader.getPage(page_num)\n",
    "        pdf_writer.addPage(page)"
   ]
  },
  {
   "cell_type": "code",
   "execution_count": 40,
   "metadata": {},
   "outputs": [],
   "source": [
    "required_file = open('required_file.pdf', 'wb')\n",
    "pdf_writer.write(required_file)"
   ]
  },
  {
   "cell_type": "code",
   "execution_count": 41,
   "metadata": {},
   "outputs": [],
   "source": [
    "pdf_files.close()\n",
    "required_file.close()"
   ]
  },
  {
   "cell_type": "markdown",
   "metadata": {},
   "source": [
    "#### There are many websites which allow us do what we read above, but they often come with some limits be it number of files or the amount of time every merging operation takes, and thus Python is here for us."
   ]
  },
  {
   "cell_type": "code",
   "execution_count": null,
   "metadata": {},
   "outputs": [],
   "source": []
  }
 ],
 "metadata": {
  "kernelspec": {
   "display_name": "Python 3",
   "language": "python",
   "name": "python3"
  },
  "language_info": {
   "codemirror_mode": {
    "name": "ipython",
    "version": 3
   },
   "file_extension": ".py",
   "mimetype": "text/x-python",
   "name": "python",
   "nbconvert_exporter": "python",
   "pygments_lexer": "ipython3",
   "version": "3.7.7"
  }
 },
 "nbformat": 4,
 "nbformat_minor": 4
}
